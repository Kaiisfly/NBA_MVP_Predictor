{
 "cells": [
  {
   "cell_type": "code",
   "execution_count": 11,
   "id": "57b268c5-71f3-4e8f-8f88-81ee130e36c8",
   "metadata": {},
   "outputs": [],
   "source": [
    "import pandas as pd\n",
    "import glob\n",
    "\n",
    "# define the path to the folder containing the CSV files\n",
    "path = r'D:\\pythonProject\\ML_Project\\Player_Stats'\n",
    "\n",
    "# use the glob function to find all CSV files in the folder\n",
    "all_files = glob.glob(path + \"/*.csv\")\n",
    "\n",
    "# create an empty list to store the DataFrames\n",
    "dfs = []\n",
    "\n",
    "# loop through each CSV file and read it into a DataFrame\n",
    "for filename in all_files:\n",
    "    df = pd.read_csv(filename, index_col=None, header=0)\n",
    "    dfs.append(df)\n",
    "\n",
    "# concatenate all the DataFrames into a single DataFrame\n",
    "merged_df = pd.concat(dfs, axis=0, ignore_index=True)\n",
    "\n",
    "# write the merged DataFrame to a CSV file\n",
    "merged_df.to_csv('players.csv', index=False)\n",
    "\n",
    "# do any additional data cleaning and preprocessing as needed"
   ]
  },
  {
   "cell_type": "code",
   "execution_count": 7,
   "id": "50441031-884a-4fbe-b6da-56720e25c449",
   "metadata": {},
   "outputs": [],
   "source": [
    "# SPLIT (Train/Test)\n",
    "\n",
    "import pandas as pd\n",
    "import glob\n",
    "import os\n",
    "\n",
    "# define the path to the folder containing the CSV files\n",
    "path = r'D:\\pythonProject\\ML_Project\\Player_Stats'\n",
    "\n",
    "# use the glob function to find all CSV files in the folder\n",
    "all_files = glob.glob(path + \"/*.csv\")\n",
    "\n",
    "# create empty lists to store the DataFrames\n",
    "dfs_2017_to_2023 = []\n",
    "dfs_1995_to_2016 = []\n",
    "\n",
    "# loop through each CSV file and read it into a DataFrame\n",
    "for filename in all_files:\n",
    "    # extract the year from the filename\n",
    "    year = int(os.path.basename(filename)[:4])\n",
    "    \n",
    "    df = pd.read_csv(filename, index_col=None, header=0)\n",
    "    \n",
    "    # append to the appropriate list based on the year\n",
    "    if year >= 2017:\n",
    "        dfs_2017_to_2023.append(df)\n",
    "    else:\n",
    "        dfs_1995_to_2016.append(df)\n",
    "\n",
    "# concatenate all the DataFrames into a single DataFrame\n",
    "merged_df_2017_to_2023 = pd.concat(dfs_2017_to_2023, axis=0, ignore_index=True)\n",
    "merged_df_1995_to_2016 = pd.concat(dfs_1995_to_2016, axis=0, ignore_index=True)\n",
    "\n",
    "# write the merged DataFrames to CSV files\n",
    "merged_df_1995_to_2016.to_csv('merged_playerstats_1995_2016.csv', index=False)\n",
    "merged_df_2017_to_2023.to_csv('merged_playerstats_2017_2023.csv', index=False)\n",
    "\n",
    "# do any additional data cleaning and preprocessing as needed"
   ]
  }
 ],
 "metadata": {
  "kernelspec": {
   "display_name": "Python 3 (ipykernel)",
   "language": "python",
   "name": "python3"
  },
  "language_info": {
   "codemirror_mode": {
    "name": "ipython",
    "version": 3
   },
   "file_extension": ".py",
   "mimetype": "text/x-python",
   "name": "python",
   "nbconvert_exporter": "python",
   "pygments_lexer": "ipython3",
   "version": "3.11.3"
  }
 },
 "nbformat": 4,
 "nbformat_minor": 5
}
