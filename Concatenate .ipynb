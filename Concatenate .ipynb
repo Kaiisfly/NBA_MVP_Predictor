{
 "cells": [
  {
   "cell_type": "code",
   "execution_count": 11,
   "id": "57b268c5-71f3-4e8f-8f88-81ee130e36c8",
   "metadata": {},
   "outputs": [],
   "source": [
    "import pandas as pd\n",
    "import glob\n",
    "\n",
    "# define the path to the folder containing the CSV files\n",
    "path = r'D:\\pythonProject\\ML_Project\\Player_Stats'\n",
    "\n",
    "# use the glob function to find all CSV files in the folder\n",
    "all_files = glob.glob(path + \"/*.csv\")\n",
    "\n",
    "# create an empty list to store the DataFrames\n",
    "dfs = []\n",
    "\n",
    "# loop through each CSV file and read it into a DataFrame\n",
    "for filename in all_files:\n",
    "    df = pd.read_csv(filename, index_col=None, header=0)\n",
    "    dfs.append(df)\n",
    "\n",
    "# concatenate all the DataFrames into a single DataFrame\n",
    "merged_df = pd.concat(dfs, axis=0, ignore_index=True)\n",
    "\n",
    "# write the merged DataFrame to a CSV file\n",
    "merged_df.to_csv('players.csv', index=False)\n",
    "\n",
    "# do any additional data cleaning and preprocessing as needed"
   ]
  }
 ],
 "metadata": {
  "kernelspec": {
   "display_name": "Python 3 (ipykernel)",
   "language": "python",
   "name": "python3"
  },
  "language_info": {
   "codemirror_mode": {
    "name": "ipython",
    "version": 3
   },
   "file_extension": ".py",
   "mimetype": "text/x-python",
   "name": "python",
   "nbconvert_exporter": "python",
   "pygments_lexer": "ipython3",
   "version": "3.11.3"
  }
 },
 "nbformat": 4,
 "nbformat_minor": 5
}
