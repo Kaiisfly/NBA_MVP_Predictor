{
 "cells": [
  {
   "cell_type": "code",
   "execution_count": 1,
   "id": "d14252bf-bf5d-43db-b8ba-d00a5711f83f",
   "metadata": {},
   "outputs": [
    {
     "name": "stdout",
     "output_type": "stream",
     "text": [
      "Successfully wrote NBA stats for 1991 to 1991_nba_stats.csv\n",
      "Successfully wrote NBA stats for 1992 to 1992_nba_stats.csv\n"
     ]
    }
   ],
   "source": [
    "import os\n",
    "import pandas as pd\n",
    "import numpy as np\n",
    "import requests\n",
    "from bs4 import BeautifulSoup\n",
    "import time\n",
    "import random\n",
    "\n",
    "# Set headers for HTTP requests\n",
    "headers = {\"User-Agent\": \"Mozilla/5.0\"}\n",
    "\n",
    "# Set range of years to scrape data for\n",
    "start_year = 1991\n",
    "end_year = 1992\n",
    "\n",
    "for year in range(start_year, end_year + 1):\n",
    "    filename = f\"{year}_nba_stats.csv\"\n",
    "\n",
    "    # Check if the file already exists in the current directory\n",
    "    if os.path.isfile(filename):\n",
    "        print(f\"{filename} already exists, skipping download.\")\n",
    "    else:\n",
    "        # Scrape data from website\n",
    "        url = f\"https://www.basketball-reference.com/leagues/NBA_{year}_per_game.html\"\n",
    "        source = requests.get(url, headers=headers)\n",
    "\n",
    "        # Check if the request was successful\n",
    "        if source.status_code == 200:\n",
    "            soup = BeautifulSoup(source.content, \"html.parser\")\n",
    "\n",
    "            # Extract data and create DataFrame\n",
    "            rows = soup.find_all(\"tr\")\n",
    "            for row in rows:\n",
    "                if \"class\" in row.attrs and \"thead\" in row.attrs[\"class\"]:\n",
    "                    header = [th.getText() for th in row.findAll(\"th\")]\n",
    "                    header = header[1:]\n",
    "                    break\n",
    "            else:\n",
    "                print(f\"Could not find header row in HTML table for {year}.\")\n",
    "                header = []\n",
    "\n",
    "            if header:\n",
    "                player_stats = [\n",
    "                    [td.getText() for td in row.findAll(\"td\")] for row in rows if \"class\" in row.attrs and \"full_table\" in row.attrs[\"class\"]\n",
    "                ]\n",
    "                stats = pd.DataFrame(player_stats, columns=header)\n",
    "\n",
    "                # Replace blank cells with NaN\n",
    "                stats.replace(\"\", np.nan, inplace=True)\n",
    "\n",
    "                # Drop rows with all NaN values\n",
    "                stats.dropna(how=\"all\", inplace=True)\n",
    "\n",
    "                # Fill remaining NaN values with 0.0\n",
    "                stats.fillna(value=0.0, inplace=True)\n",
    "\n",
    "                # Add a column for the year\n",
    "                stats[\"Year\"] = year\n",
    "\n",
    "                # Write stats DataFrame to CSV file\n",
    "                stats.to_csv(filename, index=False)\n",
    "                print(f\"Successfully wrote NBA stats for {year} to {filename}\")\n",
    "\n",
    "            # Add a delay between requests to avoid getting blocked\n",
    "            time.sleep(random.uniform(4, 6))\n",
    "        else:\n",
    "            print(f\"Failed to retrieve data for {year}. Status code: {source.status_code}\")"
   ]
  }
 ],
 "metadata": {
  "kernelspec": {
   "display_name": "Python 3 (ipykernel)",
   "language": "python",
   "name": "python3"
  },
  "language_info": {
   "codemirror_mode": {
    "name": "ipython",
    "version": 3
   },
   "file_extension": ".py",
   "mimetype": "text/x-python",
   "name": "python",
   "nbconvert_exporter": "python",
   "pygments_lexer": "ipython3",
   "version": "3.11.3"
  }
 },
 "nbformat": 4,
 "nbformat_minor": 5
}
